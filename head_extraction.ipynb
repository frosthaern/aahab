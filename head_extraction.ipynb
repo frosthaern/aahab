{
 "cells": [
  {
   "cell_type": "code",
   "execution_count": 6,
   "id": "e87d39fd-88be-4207-b6f4-b8c7c3034cdd",
   "metadata": {},
   "outputs": [],
   "source": [
    "import json"
   ]
  },
  {
   "cell_type": "code",
   "execution_count": 10,
   "id": "e50ad1b7-603d-4929-a2f4-0df19020aa0b",
   "metadata": {},
   "outputs": [],
   "source": [
    "dataset = []\n",
    "with open(\"dataset.jsonl\") as f:\n",
    "  for i in range(10):\n",
    "    dataset.append(json.loads(f.readline()))"
   ]
  },
  {
   "cell_type": "code",
   "execution_count": null,
   "id": "1425f667-be4b-4b28-a5b6-7e57871826d7",
   "metadata": {},
   "outputs": [],
   "source": []
  },
  {
   "cell_type": "code",
   "execution_count": null,
   "id": "371c58f4-1122-4c93-9e09-4b6423e4aaaf",
   "metadata": {},
   "outputs": [],
   "source": []
  }
 ],
 "metadata": {
  "kernelspec": {
   "display_name": "Python 3 (ipykernel)",
   "language": "python",
   "name": "python3"
  },
  "language_info": {
   "codemirror_mode": {
    "name": "ipython",
    "version": 3
   },
   "file_extension": ".py",
   "mimetype": "text/x-python",
   "name": "python",
   "nbconvert_exporter": "python",
   "pygments_lexer": "ipython3",
   "version": "3.13.3"
  }
 },
 "nbformat": 4,
 "nbformat_minor": 5
}
