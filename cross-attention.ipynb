{
 "cells": [
  {
   "cell_type": "code",
   "execution_count": 1,
   "id": "3751083c",
   "metadata": {},
   "outputs": [],
   "source": [
    "import torch\n",
    "import torch.nn.functional as F\n",
    "from transformers import RobertaTokenizer, RobertaModel\n",
    "from collections import defaultdict\n",
    "import json"
   ]
  },
  {
   "cell_type": "code",
   "execution_count": 2,
   "id": "c160e5f5",
   "metadata": {},
   "outputs": [],
   "source": [
    "tokenizer = RobertaTokenizer.from_pretrained(\"microsoft/codebert-base\")\n",
    "model = RobertaModel.from_pretrained(\"microsoft/codebert-base\")"
   ]
  },
  {
   "cell_type": "code",
   "execution_count": null,
   "id": "1c06affe",
   "metadata": {},
   "outputs": [],
   "source": [
    "cluster = defaultdict(list)\n",
    "with open(\"cluster.json\", \"r\") as f:\n",
    "    data = json.load(f)\n",
    "    for k, value in data.items():\n",
    "        cluster[int(k)] = [v[0] for v in value]"
   ]
  },
  {
   "cell_type": "code",
   "execution_count": 12,
   "id": "43797b56",
   "metadata": {},
   "outputs": [],
   "source": [
    "MAX_TEST_SIZE = 10"
   ]
  },
  {
   "cell_type": "code",
   "execution_count": null,
   "id": "c64c43aa",
   "metadata": {},
   "outputs": [],
   "source": [
    "cluster_0 = cluster[0]\n",
    "test_datapoints = cluster_0[:MAX_TEST_SIZE]\n",
    "\n",
    "query_embeddings_list = []\n",
    "code_embeddings_list = []\n",
    "for td in test_datapoints:\n",
    "    query_embeddings_list.append(\n",
    "        tokenizer(\n",
    "            td[\"query\"],\n",
    "            truncation=True,  # Truncate sequences longer than max_length\n",
    "            max_length=32,\n",
    "            padding=\"max_length\",  # Pad sequences shorter than max_length\n",
    "            return_tensors=\"pt\",  # Return PyTorch tensors (optional, can be 'tf' or None)\n",
    "        )\n",
    "    )\n",
    "    code_embeddings_list.append(\n",
    "        tokenizer(\n",
    "            td[\"code\"],\n",
    "            truncation=True,  # Truncate sequences longer than max_length\n",
    "            max_length=128,\n",
    "            padding=\"max_length\",  # Pad sequences shorter than max_length\n",
    "            return_tensors=\"pt\",  # Return PyTorch tensors (optional, can be 'tf' or None)\n",
    "        )\n",
    "    )"
   ]
  },
  {
   "cell_type": "code",
   "execution_count": null,
   "id": "ab3f5716",
   "metadata": {},
   "outputs": [
    {
     "name": "stdout",
     "output_type": "stream",
     "text": [
      "32\n",
      "128\n"
     ]
    }
   ],
   "source": [
    "print(len(query_embeddings_list[0][\"input_ids\"][0]))\n",
    "print(len(code_embeddings_list[0][\"input_ids\"][0]))"
   ]
  },
  {
   "cell_type": "code",
   "execution_count": null,
   "id": "1b92b604",
   "metadata": {},
   "outputs": [],
   "source": [
    "query_hidden_states = []\n",
    "code_hidden_states = []\n",
    "for i in range(MAX_TEST_SIZE):\n",
    "    with torch.no_grad():\n",
    "        query_hidden_states.append(model(**query_embeddings_list[i]).last_hidden_state)\n",
    "        code_hidden_states.append(model(**code_embeddings_list[i]).last_hidden_state)"
   ]
  },
  {
   "cell_type": "code",
   "execution_count": null,
   "id": "ed686bec",
   "metadata": {},
   "outputs": [
    {
     "name": "stdout",
     "output_type": "stream",
     "text": [
      "torch.Size([1, 32, 768])\n"
     ]
    }
   ],
   "source": [
    "query_embed_dims = []\n",
    "code_embed_dims = []\n",
    "for qhs in query_hidden_states:\n",
    "    batch_size, query_len, embed_dim = qhs.size()\n",
    "    query_embed_dims.appen((batch_size, query_len, embed_dim))\n",
    "for chs in code_embed_dims:\n",
    "    batch_size, query_len, embed_dim = qhs.size()\n",
    "    query_embed_dims.appen((batch_size, query_len, embed_dim))"
   ]
  },
  {
   "cell_type": "code",
   "execution_count": null,
   "id": "f1b49bdf",
   "metadata": {},
   "outputs": [],
   "source": []
  }
 ],
 "metadata": {
  "kernelspec": {
   "display_name": ".venv",
   "language": "python",
   "name": "python3"
  },
  "language_info": {
   "codemirror_mode": {
    "name": "ipython",
    "version": 3
   },
   "file_extension": ".py",
   "mimetype": "text/x-python",
   "name": "python",
   "nbconvert_exporter": "python",
   "pygments_lexer": "ipython3",
   "version": "3.13.3"
  }
 },
 "nbformat": 4,
 "nbformat_minor": 5
}
