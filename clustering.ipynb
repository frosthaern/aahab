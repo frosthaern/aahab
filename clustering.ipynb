{
 "cells": [
  {
   "metadata": {
    "ExecuteTime": {
     "end_time": "2025-05-27T20:05:56.860252Z",
     "start_time": "2025-05-27T20:05:56.848812Z"
    }
   },
   "cell_type": "code",
   "source": [
    "import json\n",
    "\n",
    "dataset = []\n",
    "with open(\"mohit_dataset.jsonl\", \"r\") as f:\n",
    "  for line in f:\n",
    "    dataset.append(json.loads(line))\n",
    "\n",
    "queries = [data['query'] for data in dataset]\n",
    "codes = [data['code'] for data in dataset]"
   ],
   "id": "e78dfef6fa8fe98",
   "outputs": [],
   "execution_count": 17
  },
  {
   "metadata": {},
   "cell_type": "markdown",
   "source": [
    "### dependencies\n",
    "- bertopic\n",
    "- sentence-transformers\n",
    "- transformers\n",
    "- umap-learn\n",
    "- hdbscan\n",
    "- sklearn\n",
    "- matplotlib\n",
    "- numpy"
   ],
   "id": "3494d55e75f4158"
  },
  {
   "metadata": {
    "ExecuteTime": {
     "end_time": "2025-05-27T20:07:52.447997Z",
     "start_time": "2025-05-27T20:05:56.947664Z"
    }
   },
   "cell_type": "code",
   "source": [
    "from sentence_transformers import SentenceTransformer\n",
    "import numpy as np\n",
    "\n",
    "query_model = SentenceTransformer(\"all-MiniLM-L6-v2\")\n",
    "code_model  = SentenceTransformer(\"microsoft/codebert-base\")\n",
    "\n",
    "query_embeddings = query_model.encode(queries, show_progress_bar=True)\n",
    "code_embeddings  = code_model.encode(codes, show_progress_bar=True)\n",
    "\n",
    "embeddings = np.hstack((query_embeddings, code_embeddings))"
   ],
   "id": "895d8461f86c6419",
   "outputs": [
    {
     "name": "stderr",
     "output_type": "stream",
     "text": [
      "No sentence-transformers model found with name microsoft/codebert-base. Creating a new one with mean pooling.\n"
     ]
    },
    {
     "data": {
      "text/plain": [
       "Batches:   0%|          | 0/36 [00:00<?, ?it/s]"
      ],
      "application/vnd.jupyter.widget-view+json": {
       "version_major": 2,
       "version_minor": 0,
       "model_id": "548c3edb61ad4c34a069014a173947f6"
      }
     },
     "metadata": {},
     "output_type": "display_data"
    },
    {
     "data": {
      "text/plain": [
       "Batches:   0%|          | 0/36 [00:00<?, ?it/s]"
      ],
      "application/vnd.jupyter.widget-view+json": {
       "version_major": 2,
       "version_minor": 0,
       "model_id": "67750f2a5d944eba9e1b9e1dbd12b3ce"
      }
     },
     "metadata": {},
     "output_type": "display_data"
    }
   ],
   "execution_count": 18
  },
  {
   "metadata": {
    "ExecuteTime": {
     "end_time": "2025-05-27T20:09:57.531837Z",
     "start_time": "2025-05-27T20:09:53.280709Z"
    }
   },
   "cell_type": "code",
   "source": [
    "from bertopic import BERTopic\n",
    "texts = [f\"{q} {c}\" for q, c in zip(queries, codes)]\n",
    "from umap import UMAP\n",
    "umap_model = UMAP(n_neighbors=15, n_components=5, metric='cosine', random_state=42, verbose=True)\n",
    "from hdbscan import HDBSCAN\n",
    "# hdbscan_model = HDBSCAN(min_cluster_size=13, metric='euclidean', prediction_data=True)\n",
    "hdbscan_model = HDBSCAN(metric='euclidean', prediction_data=True)\n",
    "variable_topic_model = BERTopic(umap_model=umap_model, hdbscan_model=hdbscan_model, calculate_probabilities=True, verbose=True)\n",
    "variable_topics, variable_probs = variable_topic_model.fit_transform(texts, embeddings)"
   ],
   "id": "143fdce8af3cee5f",
   "outputs": [
    {
     "name": "stderr",
     "output_type": "stream",
     "text": [
      "2025-05-28 01:39:53,286 - BERTopic - Dimensionality - Fitting the dimensionality reduction algorithm\n"
     ]
    },
    {
     "name": "stdout",
     "output_type": "stream",
     "text": [
      "UMAP(angular_rp_forest=True, metric='cosine', n_components=5, n_jobs=1, random_state=42, verbose=True)\n",
      "Wed May 28 01:39:53 2025 Construct fuzzy simplicial set\n",
      "Wed May 28 01:39:54 2025 Finding Nearest Neighbors\n",
      "Wed May 28 01:39:54 2025 Finished Nearest Neighbor Search\n",
      "Wed May 28 01:39:54 2025 Construct embedding\n"
     ]
    },
    {
     "data": {
      "text/plain": [
       "Epochs completed:   0%|            0/500 [00:00]"
      ],
      "application/vnd.jupyter.widget-view+json": {
       "version_major": 2,
       "version_minor": 0,
       "model_id": "3450b17d64f24507bead7acd4288a801"
      }
     },
     "metadata": {},
     "output_type": "display_data"
    },
    {
     "name": "stdout",
     "output_type": "stream",
     "text": [
      "\tcompleted  0  /  500 epochs\n",
      "\tcompleted  50  /  500 epochs\n",
      "\tcompleted  100  /  500 epochs\n",
      "\tcompleted  150  /  500 epochs\n",
      "\tcompleted  200  /  500 epochs\n",
      "\tcompleted  250  /  500 epochs\n",
      "\tcompleted  300  /  500 epochs\n",
      "\tcompleted  350  /  500 epochs\n",
      "\tcompleted  400  /  500 epochs\n",
      "\tcompleted  450  /  500 epochs\n"
     ]
    },
    {
     "name": "stderr",
     "output_type": "stream",
     "text": [
      "2025-05-28 01:39:57,001 - BERTopic - Dimensionality - Completed ✓\n",
      "2025-05-28 01:39:57,002 - BERTopic - Cluster - Start clustering the reduced embeddings\n"
     ]
    },
    {
     "name": "stdout",
     "output_type": "stream",
     "text": [
      "Wed May 28 01:39:56 2025 Finished embedding\n"
     ]
    },
    {
     "name": "stderr",
     "output_type": "stream",
     "text": [
      "2025-05-28 01:39:57,270 - BERTopic - Cluster - Completed ✓\n",
      "2025-05-28 01:39:57,274 - BERTopic - Representation - Fine-tuning topics using representation models.\n",
      "2025-05-28 01:39:57,379 - BERTopic - Representation - Completed ✓\n"
     ]
    }
   ],
   "execution_count": 35
  },
  {
   "metadata": {
    "ExecuteTime": {
     "end_time": "2025-05-27T20:10:04.772802Z",
     "start_time": "2025-05-27T20:10:04.749378Z"
    }
   },
   "cell_type": "code",
   "source": [
    "import pandas as pd\n",
    "variable_info = pd.DataFrame(variable_topic_model.get_topic_info())\n",
    "print(variable_info['Topic'].unique())\n",
    "variable_info.head()"
   ],
   "id": "12ba06647b332bee",
   "outputs": [
    {
     "name": "stdout",
     "output_type": "stream",
     "text": [
      "[-1  0  1  2  3  4  5  6  7  8  9 10 11 12 13 14 15 16 17 18 19 20 21 22\n",
      " 23 24 25 26 27 28 29 30 31 32 33 34 35 36 37 38 39 40 41 42 43 44 45 46\n",
      " 47 48 49 50 51 52 53 54 55 56 57 58 59 60 61 62]\n"
     ]
    },
    {
     "data": {
      "text/plain": [
       "   Topic  Count                                               Name  \\\n",
       "0     -1    189                              -1_def_this_to_return   \n",
       "1      0     49                     0_assert_test_returns_function   \n",
       "2      1     41    1_users_sqlite3connectmydatabasedb_cursor_table   \n",
       "3      2     37  2_socketsocketsocketafinet_socket_socketsockst...   \n",
       "4      3     34                3_list_of_dataset_removeduplicates1   \n",
       "\n",
       "                                      Representation  \\\n",
       "0  [def, this, to, return, if, code, in, the, imp...   \n",
       "1  [assert, test, returns, function, radius, is, ...   \n",
       "2  [users, sqlite3connectmydatabasedb, cursor, ta...   \n",
       "3  [socketsocketsocketafinet, socket, socketsocks...   \n",
       "4  [list, of, dataset, removeduplicates1, mean1, ...   \n",
       "\n",
       "                                 Representative_Docs  \n",
       "0  [This Python code creates a web server that ha...  \n",
       "1  [Test a function that checks if a number is ev...  \n",
       "2  [Orders users by their age in descending order...  \n",
       "3  [Build a UDP server that receives messages and...  \n",
       "4  [Determine the standard deviation of a dataset...  "
      ],
      "text/html": [
       "<div>\n",
       "<style scoped>\n",
       "    .dataframe tbody tr th:only-of-type {\n",
       "        vertical-align: middle;\n",
       "    }\n",
       "\n",
       "    .dataframe tbody tr th {\n",
       "        vertical-align: top;\n",
       "    }\n",
       "\n",
       "    .dataframe thead th {\n",
       "        text-align: right;\n",
       "    }\n",
       "</style>\n",
       "<table border=\"1\" class=\"dataframe\">\n",
       "  <thead>\n",
       "    <tr style=\"text-align: right;\">\n",
       "      <th></th>\n",
       "      <th>Topic</th>\n",
       "      <th>Count</th>\n",
       "      <th>Name</th>\n",
       "      <th>Representation</th>\n",
       "      <th>Representative_Docs</th>\n",
       "    </tr>\n",
       "  </thead>\n",
       "  <tbody>\n",
       "    <tr>\n",
       "      <th>0</th>\n",
       "      <td>-1</td>\n",
       "      <td>189</td>\n",
       "      <td>-1_def_this_to_return</td>\n",
       "      <td>[def, this, to, return, if, code, in, the, imp...</td>\n",
       "      <td>[This Python code creates a web server that ha...</td>\n",
       "    </tr>\n",
       "    <tr>\n",
       "      <th>1</th>\n",
       "      <td>0</td>\n",
       "      <td>49</td>\n",
       "      <td>0_assert_test_returns_function</td>\n",
       "      <td>[assert, test, returns, function, radius, is, ...</td>\n",
       "      <td>[Test a function that checks if a number is ev...</td>\n",
       "    </tr>\n",
       "    <tr>\n",
       "      <th>2</th>\n",
       "      <td>1</td>\n",
       "      <td>41</td>\n",
       "      <td>1_users_sqlite3connectmydatabasedb_cursor_table</td>\n",
       "      <td>[users, sqlite3connectmydatabasedb, cursor, ta...</td>\n",
       "      <td>[Orders users by their age in descending order...</td>\n",
       "    </tr>\n",
       "    <tr>\n",
       "      <th>3</th>\n",
       "      <td>2</td>\n",
       "      <td>37</td>\n",
       "      <td>2_socketsocketsocketafinet_socket_socketsockst...</td>\n",
       "      <td>[socketsocketsocketafinet, socket, socketsocks...</td>\n",
       "      <td>[Build a UDP server that receives messages and...</td>\n",
       "    </tr>\n",
       "    <tr>\n",
       "      <th>4</th>\n",
       "      <td>3</td>\n",
       "      <td>34</td>\n",
       "      <td>3_list_of_dataset_removeduplicates1</td>\n",
       "      <td>[list, of, dataset, removeduplicates1, mean1, ...</td>\n",
       "      <td>[Determine the standard deviation of a dataset...</td>\n",
       "    </tr>\n",
       "  </tbody>\n",
       "</table>\n",
       "</div>"
      ]
     },
     "execution_count": 38,
     "metadata": {},
     "output_type": "execute_result"
    }
   ],
   "execution_count": 38
  },
  {
   "cell_type": "code",
   "id": "65531f3a",
   "metadata": {
    "ExecuteTime": {
     "end_time": "2025-05-27T20:10:06.586614Z",
     "start_time": "2025-05-27T20:10:06.582048Z"
    }
   },
   "source": [
    "from typing import List\n",
    "\n",
    "variable_all_topics: List[int] = list(map(int, list(variable_topic_model.get_topics().keys())))\n",
    "if -1 in variable_all_topics:\n",
    "  variable_all_topics.remove(-1)"
   ],
   "outputs": [],
   "execution_count": 39
  },
  {
   "metadata": {
    "ExecuteTime": {
     "end_time": "2025-05-27T20:10:09.762456Z",
     "start_time": "2025-05-27T20:10:09.518575Z"
    }
   },
   "cell_type": "code",
   "source": "fig = variable_topic_model.visualize_barchart(topics=variable_all_topics, top_n_topics=3)",
   "id": "88da89fd14af6431",
   "outputs": [],
   "execution_count": 40
  },
  {
   "metadata": {
    "ExecuteTime": {
     "end_time": "2025-05-27T20:09:21.126899Z",
     "start_time": "2025-05-27T20:09:21.063145Z"
    }
   },
   "cell_type": "code",
   "source": "fig = variable_topic_model.visualize_hierarchy()",
   "id": "26bfb88b2248a1d0",
   "outputs": [],
   "execution_count": 34
  },
  {
   "metadata": {
    "ExecuteTime": {
     "end_time": "2025-05-27T20:10:13.271581Z",
     "start_time": "2025-05-27T20:10:12.931157Z"
    }
   },
   "cell_type": "code",
   "source": [
    "import matplotlib.pyplot as plt\n",
    "variable_info = variable_topic_model.get_topic_info()\n",
    "variable_info = variable_info[variable_info.Topic != -1]\n",
    "plt.figure(figsize=(10, 6))\n",
    "plt.bar(variable_info.Topic.astype(str), variable_info.Count)\n",
    "plt.xlabel(\"Topic\")\n",
    "plt.ylabel(\"Number of Documents\")\n",
    "plt.title(\"Number of Documents per Topic\")\n",
    "plt.xticks(rotation=90)\n",
    "plt.show()"
   ],
   "id": "f5d072fc4933979",
   "outputs": [
    {
     "data": {
      "text/plain": [
       "<Figure size 1000x600 with 1 Axes>"
      ],
      "image/png": "[encoded data removed]"
     },
     "metadata": {},
     "output_type": "display_data"
    }
   ],
   "execution_count": 41
  },
  {
   "cell_type": "code",
   "id": "12993c44",
   "metadata": {
    "ExecuteTime": {
     "end_time": "2025-05-27T20:10:15.366232Z",
     "start_time": "2025-05-27T20:10:15.299431Z"
    }
   },
   "source": [
    "plt = variable_topic_model.visualize_heatmap()\n",
    "plt.update_xaxes(tickangle=90)\n",
    "plt.show()"
   ],
   "outputs": [
    {
     "data": {
      "application/vnd.plotly.v1+json": {
       "data": [
        {
         "coloraxis": "coloraxis",
         "name": "0",
         "x": [
          "0_assert_test_returns",
          "1_users_sqlite3connectmydat...",
          "2_socketsocketsocketafinet_...",
          "3_list_of_dataset",
          "4_numbers_lennumbers_sumnum...",
          "5_customers_select_table",
          "6_mid_target_high",
          "7_image_edges_an",
          "8_selfendheaders_password_s...",
          "9_image_blur_gaussian",
          "10_breed_dog_name",
          "11_os_directory_mydirectory",
          "12_xmean_2a_ymean",
          "13_ypred_sumnumbers_of",
          "14_mathpi_circlearearadius_...",
          "15_class_speakself_animal",
          "16_retriever_golden_assert",
          "17_numbers_sortednumbers_st...",
          "18_httpserver_dogetself_bas...",
          "19_ypred_ytrue_sklearnmetrics",
          "20_model_linearregression_m...",
          "21_products_users_cursor",
          "22_hostname_socketgethostna...",
          "23_false_return_intn05",
          "24_pass_abc_class",
          "25_s1_reversestrings_string",
          "26_custom_port_basehttprequ...",
          "27_flask_apprundebugtrue_main",
          "28_y2_points_distance",
          "29_city_hist_apple",
          "30_sock_socketsocketsocketa...",
          "31_line_lines_file",
          "32_file_read_fileclose",
          "33_ispositivenumber_positiv...",
          "34_image_pil_imageopenimage...",
          "35_world_file_openoutputtxt",
          "36_listfib_queue_visited",
          "37_pixel_factor_original",
          "38_httpserver_dogetself_8000",
          "39_only_numbers_include",
          "40_factorialn1_factorialn_f...",
          "41_newnametxt_oldnametxt_os...",
          "42_total_vector_number",
          "43_minval_maxval_normalizen...",
          "44_file_line_fileclose",
          "45_exception_raises_pytestr...",
          "46_simplehttprequesthandler...",
          "47_lookup_dns_80",
          "48_correlation_lists_listse...",
          "49_mask_httpserver_gzip",
          "50_height_width_cv2resizeim...",
          "51_celsius_fahrenheit_32",
          "52_printfile_exists_does",
          "53_value_initself_class",
          "54_breed_name_selfbreed",
          "55_printosgetcwd_current_wo...",
          "56_year_number_leap",
          "57_sourcefile_destinationtx...",
          "58_modelfitxtrain_ytrain_mo...",
          "59_kernel_dilation_iterations",
          "60_socket_socketsockstream_...",
          "61_celsius_convert_celsiust...",
          "62_dotproduct_nparray4_npdota"
         ],
         "y": [
          "0_assert_test_returns",
          "1_users_sqlite3connectmydat...",
          "2_socketsocketsocketafinet_...",
          "3_list_of_dataset",
          "4_numbers_lennumbers_sumnum...",
          "5_customers_select_table",
          "6_mid_target_high",
          "7_image_edges_an",
          "8_selfendheaders_password_s...",
          "9_image_blur_gaussian",
          "10_breed_dog_name",
          "11_os_directory_mydirectory",
          "12_xmean_2a_ymean",
          "13_ypred_sumnumbers_of",
          "14_mathpi_circlearearadius_...",
          "15_class_speakself_animal",
          "16_retriever_golden_assert",
          "17_numbers_sortednumbers_st...",
          "18_httpserver_dogetself_bas...",
          "19_ypred_ytrue_sklearnmetrics",
          "20_model_linearregression_m...",
          "21_products_users_cursor",
          "22_hostname_socketgethostna...",
          "23_false_return_intn05",
          "24_pass_abc_class",
          "25_s1_reversestrings_string",
          "26_custom_port_basehttprequ...",
          "27_flask_apprundebugtrue_main",
          "28_y2_points_distance",
          "29_city_hist_apple",
          "30_sock_socketsocketsocketa...",
          "31_line_lines_file",
          "32_file_read_fileclose",
          "33_ispositivenumber_positiv...",
          "34_image_pil_imageopenimage...",
          "35_world_file_openoutputtxt",
          "36_listfib_queue_visited",
          "37_pixel_factor_original",
          "38_httpserver_dogetself_8000",
          "39_only_numbers_include",
          "40_factorialn1_factorialn_f...",
          "41_newnametxt_oldnametxt_os...",
          "42_total_vector_number",
          "43_minval_maxval_normalizen...",
          "44_file_line_fileclose",
          "45_exception_raises_pytestr...",
          "46_simplehttprequesthandler...",
          "47_lookup_dns_80",
          "48_correlation_lists_listse...",
          "49_mask_httpserver_gzip",
          "50_height_width_cv2resizeim...",
          "51_celsius_fahrenheit_32",
          "52_printfile_exists_does",
          "53_value_initself_class",
          "54_breed_name_selfbreed",
          "55_printosgetcwd_current_wo...",
          "56_year_number_leap",
          "57_sourcefile_destinationtx...",
          "58_modelfitxtrain_ytrain_mo...",
          "59_kernel_dilation_iterations",
          "60_socket_socketsockstream_...",
          "61_celsius_convert_celsiust...",
          "62_dotproduct_nparray4_npdota"
         ],
         "z": {
          "dtype": "f4",
          "bdata": "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",
          "shape": "63, 63"
         },
         "type": "heatmap",
         "xaxis": "x",
         "yaxis": "y",
         "hovertemplate": "x: %{x}<br>y: %{y}<br>Similarity Score: %{z}<extra></extra>"
        }
       ],
       "layout": {
        "template": {
         "data": {
          "histogram2dcontour": [
           {
            "type": "histogram2dcontour",
            "colorbar": {
             "outlinewidth": 0,
             "ticks": ""
            },
            "colorscale": [
             [
              0.0,
              "#0d0887"
             ],
             [
              0.1111111111111111,
              "#46039f"
             ],
             [
              0.2222222222222222,
              "#7201a8"
             ],
             [
              0.3333333333333333,
              "#9c179e"
             ],
             [
              0.4444444444444444,
              "#bd3786"
             ],
             [
              0.5555555555555556,
              "#d8576b"
             ],
             [
              0.6666666666666666,
              "#ed7953"
             ],
             [
              0.7777777777777778,
              "#fb9f3a"
             ],
             [
              0.8888888888888888,
              "#fdca26"
             ],
             [
              1.0,
              "#f0f921"
             ]
            ]
           }
          ],
          "choropleth": [
           {
            "type": "choropleth",
            "colorbar": {
             "outlinewidth": 0,
             "ticks": ""
            }
           }
          ],
          "histogram2d": [
           {
            "type": "histogram2d",
            "colorbar": {
             "outlinewidth": 0,
             "ticks": ""
            },
            "colorscale": [
             [
              0.0,
              "#0d0887"
             ],
             [
              0.1111111111111111,
              "#46039f"
             ],
             [
              0.2222222222222222,
              "#7201a8"
             ],
             [
              0.3333333333333333,
              "#9c179e"
             ],
             [
              0.4444444444444444,
              "#bd3786"
             ],
             [
              0.5555555555555556,
              "#d8576b"
             ],
             [
              0.6666666666666666,
              "#ed7953"
             ],
             [
              0.7777777777777778,
              "#fb9f3a"
             ],
             [
              0.8888888888888888,
              "#fdca26"
             ],
             [
              1.0,
              "#f0f921"
             ]
            ]
           }
          ],
          "heatmap": [
           {
            "type": "heatmap",
            "colorbar": {
             "outlinewidth": 0,
             "ticks": ""
            },
            "colorscale": [
             [
              0.0,
              "#0d0887"
             ],
             [
              0.1111111111111111,
              "#46039f"
             ],
             [
              0.2222222222222222,
              "#7201a8"
             ],
             [
              0.3333333333333333,
              "#9c179e"
             ],
             [
              0.4444444444444444,
              "#bd3786"
             ],
             [
              0.5555555555555556,
              "#d8576b"
             ],
             [
              0.6666666666666666,
              "#ed7953"
             ],
             [
              0.7777777777777778,
              "#fb9f3a"
             ],
             [
              0.8888888888888888,
              "#fdca26"
             ],
             [
              1.0,
              "#f0f921"
             ]
            ]
           }
          ],
          "contourcarpet": [
           {
            "type": "contourcarpet",
            "colorbar": {
             "outlinewidth": 0,
             "ticks": ""
            }
           }
          ],
          "contour": [
           {
            "type": "contour",
            "colorbar": {
             "outlinewidth": 0,
             "ticks": ""
            },
            "colorscale": [
             [
              0.0,
              "#0d0887"
             ],
             [
              0.1111111111111111,
              "#46039f"
             ],
             [
              0.2222222222222222,
              "#7201a8"
             ],
             [
              0.3333333333333333,
              "#9c179e"
             ],
             [
              0.4444444444444444,
              "#bd3786"
             ],
             [
              0.5555555555555556,
              "#d8576b"
             ],
             [
              0.6666666666666666,
              "#ed7953"
             ],
             [
              0.7777777777777778,
              "#fb9f3a"
             ],
             [
              0.8888888888888888,
              "#fdca26"
             ],
             [
              1.0,
              "#f0f921"
             ]
            ]
           }
          ],
          "surface": [
           {
            "type": "surface",
            "colorbar": {
             "outlinewidth": 0,
             "ticks": ""
            },
            "colorscale": [
             [
              0.0,
              "#0d0887"
             ],
             [
              0.1111111111111111,
              "#46039f"
             ],
             [
              0.2222222222222222,
              "#7201a8"
             ],
             [
              0.3333333333333333,
              "#9c179e"
             ],
             [
              0.4444444444444444,
              "#bd3786"
             ],
             [
              0.5555555555555556,
              "#d8576b"
             ],
             [
              0.6666666666666666,
              "#ed7953"
             ],
             [
              0.7777777777777778,
              "#fb9f3a"
             ],
             [
              0.8888888888888888,
              "#fdca26"
             ],
             [
              1.0,
              "#f0f921"
             ]
            ]
           }
          ],
          "mesh3d": [
           {
            "type": "mesh3d",
            "colorbar": {
             "outlinewidth": 0,
             "ticks": ""
            }
           }
          ],
          "scatter": [
           {
            "fillpattern": {
             "fillmode": "overlay",
             "size": 10,
             "solidity": 0.2
            },
            "type": "scatter"
           }
          ],
          "parcoords": [
           {
            "type": "parcoords",
            "line": {
             "colorbar": {
              "outlinewidth": 0,
              "ticks": ""
             }
            }
           }
          ],
          "scatterpolargl": [
           {
            "type": "scatterpolargl",
            "marker": {
             "colorbar": {
              "outlinewidth": 0,
              "ticks": ""
             }
            }
           }
          ],
          "bar": [
           {
            "error_x": {
             "color": "#2a3f5f"
            },
            "error_y": {
             "color": "#2a3f5f"
            },
            "marker": {
             "line": {
              "color": "#E5ECF6",
              "width": 0.5
             },
             "pattern": {
              "fillmode": "overlay",
              "size": 10,
              "solidity": 0.2
             }
            },
            "type": "bar"
           }
          ],
          "scattergeo": [
           {
            "type": "scattergeo",
            "marker": {
             "colorbar": {
              "outlinewidth": 0,
              "ticks": ""
             }
            }
           }
          ],
          "scatterpolar": [
           {
            "type": "scatterpolar",
            "marker": {
             "colorbar": {
              "outlinewidth": 0,
              "ticks": ""
             }
            }
           }
          ],
          "histogram": [
           {
            "marker": {
             "pattern": {
              "fillmode": "overlay",
              "size": 10,
              "solidity": 0.2
             }
            },
            "type": "histogram"
           }
          ],
          "scattergl": [
           {
            "type": "scattergl",
            "marker": {
             "colorbar": {
              "outlinewidth": 0,
              "ticks": ""
             }
            }
           }
          ],
          "scatter3d": [
           {
            "type": "scatter3d",
            "line": {
             "colorbar": {
              "outlinewidth": 0,
              "ticks": ""
             }
            },
            "marker": {
             "colorbar": {
              "outlinewidth": 0,
              "ticks": ""
             }
            }
           }
          ],
          "scattermap": [
           {
            "type": "scattermap",
            "marker": {
             "colorbar": {
              "outlinewidth": 0,
              "ticks": ""
             }
            }
           }
          ],
          "scattermapbox": [
           {
            "type": "scattermapbox",
            "marker": {
             "colorbar": {
              "outlinewidth": 0,
              "ticks": ""
             }
            }
           }
          ],
          "scatterternary": [
           {
            "type": "scatterternary",
            "marker": {
             "colorbar": {
              "outlinewidth": 0,
              "ticks": ""
             }
            }
           }
          ],
          "scattercarpet": [
           {
            "type": "scattercarpet",
            "marker": {
             "colorbar": {
              "outlinewidth": 0,
              "ticks": ""
             }
            }
           }
          ],
          "carpet": [
           {
            "aaxis": {
             "endlinecolor": "#2a3f5f",
             "gridcolor": "white",
             "linecolor": "white",
             "minorgridcolor": "white",
             "startlinecolor": "#2a3f5f"
            },
            "baxis": {
             "endlinecolor": "#2a3f5f",
             "gridcolor": "white",
             "linecolor": "white",
             "minorgridcolor": "white",
             "startlinecolor": "#2a3f5f"
            },
            "type": "carpet"
           }
          ],
          "table": [
           {
            "cells": {
             "fill": {
              "color": "#EBF0F8"
             },
             "line": {
              "color": "white"
             }
            },
            "header": {
             "fill": {
              "color": "#C8D4E3"
             },
             "line": {
              "color": "white"
             }
            },
            "type": "table"
           }
          ],
          "barpolar": [
           {
            "marker": {
             "line": {
              "color": "#E5ECF6",
              "width": 0.5
             },
             "pattern": {
              "fillmode": "overlay",
              "size": 10,
              "solidity": 0.2
             }
            },
            "type": "barpolar"
           }
          ],
          "pie": [
           {
            "automargin": true,
            "type": "pie"
           }
          ]
         },
         "layout": {
          "autotypenumbers": "strict",
          "colorway": [
           "#636efa",
           "#EF553B",
           "#00cc96",
           "#ab63fa",
           "#FFA15A",
           "#19d3f3",
           "#FF6692",
           "#B6E880",
           "#FF97FF",
           "#FECB52"
          ],
          "font": {
           "color": "#2a3f5f"
          },
          "hovermode": "closest",
          "hoverlabel": {
           "align": "left"
          },
          "paper_bgcolor": "white",
          "plot_bgcolor": "#E5ECF6",
          "polar": {
           "bgcolor": "#E5ECF6",
           "angularaxis": {
            "gridcolor": "white",
            "linecolor": "white",
            "ticks": ""
           },
           "radialaxis": {
            "gridcolor": "white",
            "linecolor": "white",
            "ticks": ""
           }
          },
          "ternary": {
           "bgcolor": "#E5ECF6",
           "aaxis": {
            "gridcolor": "white",
            "linecolor": "white",
            "ticks": ""
           },
           "baxis": {
            "gridcolor": "white",
            "linecolor": "white",
            "ticks": ""
           },
           "caxis": {
            "gridcolor": "white",
            "linecolor": "white",
            "ticks": ""
           }
          },
          "coloraxis": {
           "colorbar": {
            "outlinewidth": 0,
            "ticks": ""
           }
          },
          "colorscale": {
           "sequential": [
            [
             0.0,
             "#0d0887"
            ],
            [
             0.1111111111111111,
             "#46039f"
            ],
            [
             0.2222222222222222,
             "#7201a8"
            ],
            [
             0.3333333333333333,
             "#9c179e"
            ],
            [
             0.4444444444444444,
             "#bd3786"
            ],
            [
             0.5555555555555556,
             "#d8576b"
            ],
            [
             0.6666666666666666,
             "#ed7953"
            ],
            [
             0.7777777777777778,
             "#fb9f3a"
            ],
            [
             0.8888888888888888,
             "#fdca26"
            ],
            [
             1.0,
             "#f0f921"
            ]
           ],
           "sequentialminus": [
            [
             0.0,
             "#0d0887"
            ],
            [
             0.1111111111111111,
             "#46039f"
            ],
            [
             0.2222222222222222,
             "#7201a8"
            ],
            [
             0.3333333333333333,
             "#9c179e"
            ],
            [
             0.4444444444444444,
             "#bd3786"
            ],
            [
             0.5555555555555556,
             "#d8576b"
            ],
            [
             0.6666666666666666,
             "#ed7953"
            ],
            [
             0.7777777777777778,
             "#fb9f3a"
            ],
            [
             0.8888888888888888,
             "#fdca26"
            ],
            [
             1.0,
             "#f0f921"
            ]
           ],
           "diverging": [
            [
             0,
             "#8e0152"
            ],
            [
             0.1,
             "#c51b7d"
            ],
            [
             0.2,
             "#de77ae"
            ],
            [
             0.3,
             "#f1b6da"
            ],
            [
             0.4,
             "#fde0ef"
            ],
            [
             0.5,
             "#f7f7f7"
            ],
            [
             0.6,
             "#e6f5d0"
            ],
            [
             0.7,
             "#b8e186"
            ],
            [
             0.8,
             "#7fbc41"
            ],
            [
             0.9,
             "#4d9221"
            ],
            [
             1,
             "#276419"
            ]
           ]
          },
          "xaxis": {
           "gridcolor": "white",
           "linecolor": "white",
           "ticks": "",
           "title": {
            "standoff": 15
           },
           "zerolinecolor": "white",
           "automargin": true,
           "zerolinewidth": 2
          },
          "yaxis": {
           "gridcolor": "white",
           "linecolor": "white",
           "ticks": "",
           "title": {
            "standoff": 15
           },
           "zerolinecolor": "white",
           "automargin": true,
           "zerolinewidth": 2
          },
          "scene": {
           "xaxis": {
            "backgroundcolor": "#E5ECF6",
            "gridcolor": "white",
            "linecolor": "white",
            "showbackground": true,
            "ticks": "",
            "zerolinecolor": "white",
            "gridwidth": 2
           },
           "yaxis": {
            "backgroundcolor": "#E5ECF6",
            "gridcolor": "white",
            "linecolor": "white",
            "showbackground": true,
            "ticks": "",
            "zerolinecolor": "white",
            "gridwidth": 2
           },
           "zaxis": {
            "backgroundcolor": "#E5ECF6",
            "gridcolor": "white",
            "linecolor": "white",
            "showbackground": true,
            "ticks": "",
            "zerolinecolor": "white",
            "gridwidth": 2
           }
          },
          "shapedefaults": {
           "line": {
            "color": "#2a3f5f"
           }
          },
          "annotationdefaults": {
           "arrowcolor": "#2a3f5f",
           "arrowhead": 0,
           "arrowwidth": 1
          },
          "geo": {
           "bgcolor": "white",
           "landcolor": "#E5ECF6",
           "subunitcolor": "white",
           "showland": true,
           "showlakes": true,
           "lakecolor": "white"
          },
          "title": {
           "x": 0.05
          },
          "mapbox": {
           "style": "light"
          }
         }
        },
        "xaxis": {
         "anchor": "y",
         "domain": [
          0.0,
          1.0
         ],
         "scaleanchor": "y",
         "constrain": "domain",
         "tickangle": 90
        },
        "yaxis": {
         "anchor": "x",
         "domain": [
          0.0,
          1.0
         ],
         "autorange": "reversed",
         "constrain": "domain"
        },
        "coloraxis": {
         "colorbar": {
          "title": {
           "text": "Similarity Score"
          }
         },
         "colorscale": [
          [
           0.0,
           "rgb(247,252,240)"
          ],
          [
           0.125,
           "rgb(224,243,219)"
          ],
          [
           0.25,
           "rgb(204,235,197)"
          ],
          [
           0.375,
           "rgb(168,221,181)"
          ],
          [
           0.5,
           "rgb(123,204,196)"
          ],
          [
           0.625,
           "rgb(78,179,211)"
          ],
          [
           0.75,
           "rgb(43,140,190)"
          ],
          [
           0.875,
           "rgb(8,104,172)"
          ],
          [
           1.0,
           "rgb(8,64,129)"
          ]
         ]
        },
        "margin": {
         "t": 60
        },
        "title": {
         "font": {
          "size": 22,
          "color": "Black"
         },
         "text": "<b>Similarity Matrix</b>",
         "y": 0.95,
         "x": 0.55,
         "xanchor": "center",
         "yanchor": "top"
        },
        "hoverlabel": {
         "font": {
          "size": 16,
          "family": "Rockwell"
         },
         "bgcolor": "white"
        },
        "width": 800,
        "height": 800,
        "showlegend": true,
        "legend": {
         "title": {
          "text": "Trend"
         }
        }
       },
       "config": {
        "plotlyServerURL": "https://plot.ly"
       }
      }
     },
     "metadata": {},
     "output_type": "display_data"
    }
   ],
   "execution_count": 42
  },
  {
   "metadata": {
    "ExecuteTime": {
     "end_time": "2025-05-27T20:10:37.603593Z",
     "start_time": "2025-05-27T20:10:31.729222Z"
    }
   },
   "cell_type": "code",
   "source": [
    "from sklearn.cluster import KMeans\n",
    "from bertopic import BERTopic\n",
    "from sklearn.decomposition import PCA\n",
    "\n",
    "pca = PCA(n_components=5)\n",
    "embeddings = pca.fit_transform(embeddings)\n",
    "kmeans_model = KMeans(n_clusters=12, random_state=42)\n",
    "labels = kmeans_model.fit_predict(embeddings)\n",
    "constant_topic_model = BERTopic(calculate_probabilities=True, verbose=True, nr_topics=12)\n",
    "constant_topic_model.fit(texts, embeddings, y=labels)"
   ],
   "id": "8d30a92e7223a168",
   "outputs": [
    {
     "name": "stderr",
     "output_type": "stream",
     "text": [
      "2025-05-28 01:40:31,750 - BERTopic - Dimensionality - Fitting the dimensionality reduction algorithm\n",
      "2025-05-28 01:40:37,074 - BERTopic - Dimensionality - Completed ✓\n",
      "2025-05-28 01:40:37,077 - BERTopic - Cluster - Start clustering the reduced embeddings\n",
      "2025-05-28 01:40:37,300 - BERTopic - Cluster - Completed ✓\n",
      "2025-05-28 01:40:37,301 - BERTopic - Representation - Extracting topics using c-TF-IDF for topic reduction.\n",
      "2025-05-28 01:40:37,384 - BERTopic - Representation - Completed ✓\n",
      "2025-05-28 01:40:37,385 - BERTopic - Topic reduction - Reducing number of topics\n",
      "2025-05-28 01:40:37,393 - BERTopic - Representation - Fine-tuning topics using representation models.\n",
      "2025-05-28 01:40:37,472 - BERTopic - Representation - Completed ✓\n",
      "2025-05-28 01:40:37,475 - BERTopic - Topic reduction - Reduced number of topics from 25 to 12\n"
     ]
    },
    {
     "data": {
      "text/plain": [
       "<bertopic._bertopic.BERTopic at 0x7b143c2e56d0>"
      ]
     },
     "execution_count": 44,
     "metadata": {},
     "output_type": "execute_result"
    }
   ],
   "execution_count": 44
  },
  {
   "metadata": {
    "ExecuteTime": {
     "end_time": "2025-05-27T20:10:37.747776Z",
     "start_time": "2025-05-27T20:10:37.729396Z"
    }
   },
   "cell_type": "code",
   "source": [
    "import pandas as pd\n",
    "info = pd.DataFrame(constant_topic_model.get_topic_info())\n",
    "print(info['Topic'].unique())\n",
    "info.head()"
   ],
   "id": "328da1c74a12788d",
   "outputs": [
    {
     "name": "stdout",
     "output_type": "stream",
     "text": [
      "[-1  0  1  2  3  4  5  6  7  8  9 10]\n"
     ]
    },
    {
     "data": {
      "text/plain": [
       "   Topic  Count                                               Name  \\\n",
       "0     -1     16                   -1_original_celsius_count_factor   \n",
       "1      0    185                         0_the_assert_test_function   \n",
       "2      1    167                              1_return_image_of_the   \n",
       "3      2    130  2_httpserver_selfendheaders_selfsendresponse20...   \n",
       "4      3    118                            3_users_file_cursor_the   \n",
       "\n",
       "                                      Representation  \\\n",
       "0  [original, celsius, count, factor, the, given,...   \n",
       "1  [the, assert, test, function, customers, that,...   \n",
       "2  [return, image, of, the, def, to, code, this, ...   \n",
       "3  [httpserver, selfendheaders, selfsendresponse2...   \n",
       "4  [users, file, cursor, the, table, fileclose, f...   \n",
       "\n",
       "                                 Representative_Docs  \n",
       "0  [Demonstrate polymorphism by creating a generi...  \n",
       "1  [Write a unit test to check if a function retu...  \n",
       "2  [This code calculates the mean of a list of nu...  \n",
       "3  [This code demonstrates how to create a simple...  \n",
       "4  [Retrieve the first 3 users from the 'users' t...  "
      ],
      "text/html": [
       "<div>\n",
       "<style scoped>\n",
       "    .dataframe tbody tr th:only-of-type {\n",
       "        vertical-align: middle;\n",
       "    }\n",
       "\n",
       "    .dataframe tbody tr th {\n",
       "        vertical-align: top;\n",
       "    }\n",
       "\n",
       "    .dataframe thead th {\n",
       "        text-align: right;\n",
       "    }\n",
       "</style>\n",
       "<table border=\"1\" class=\"dataframe\">\n",
       "  <thead>\n",
       "    <tr style=\"text-align: right;\">\n",
       "      <th></th>\n",
       "      <th>Topic</th>\n",
       "      <th>Count</th>\n",
       "      <th>Name</th>\n",
       "      <th>Representation</th>\n",
       "      <th>Representative_Docs</th>\n",
       "    </tr>\n",
       "  </thead>\n",
       "  <tbody>\n",
       "    <tr>\n",
       "      <th>0</th>\n",
       "      <td>-1</td>\n",
       "      <td>16</td>\n",
       "      <td>-1_original_celsius_count_factor</td>\n",
       "      <td>[original, celsius, count, factor, the, given,...</td>\n",
       "      <td>[Demonstrate polymorphism by creating a generi...</td>\n",
       "    </tr>\n",
       "    <tr>\n",
       "      <th>1</th>\n",
       "      <td>0</td>\n",
       "      <td>185</td>\n",
       "      <td>0_the_assert_test_function</td>\n",
       "      <td>[the, assert, test, function, customers, that,...</td>\n",
       "      <td>[Write a unit test to check if a function retu...</td>\n",
       "    </tr>\n",
       "    <tr>\n",
       "      <th>2</th>\n",
       "      <td>1</td>\n",
       "      <td>167</td>\n",
       "      <td>1_return_image_of_the</td>\n",
       "      <td>[return, image, of, the, def, to, code, this, ...</td>\n",
       "      <td>[This code calculates the mean of a list of nu...</td>\n",
       "    </tr>\n",
       "    <tr>\n",
       "      <th>3</th>\n",
       "      <td>2</td>\n",
       "      <td>130</td>\n",
       "      <td>2_httpserver_selfendheaders_selfsendresponse20...</td>\n",
       "      <td>[httpserver, selfendheaders, selfsendresponse2...</td>\n",
       "      <td>[This code demonstrates how to create a simple...</td>\n",
       "    </tr>\n",
       "    <tr>\n",
       "      <th>4</th>\n",
       "      <td>3</td>\n",
       "      <td>118</td>\n",
       "      <td>3_users_file_cursor_the</td>\n",
       "      <td>[users, file, cursor, the, table, fileclose, f...</td>\n",
       "      <td>[Retrieve the first 3 users from the 'users' t...</td>\n",
       "    </tr>\n",
       "  </tbody>\n",
       "</table>\n",
       "</div>"
      ]
     },
     "execution_count": 45,
     "metadata": {},
     "output_type": "execute_result"
    }
   ],
   "execution_count": 45
  },
  {
   "cell_type": "code",
   "id": "fae3cfea",
   "metadata": {
    "ExecuteTime": {
     "end_time": "2025-05-27T20:10:42.422905Z",
     "start_time": "2025-05-27T20:10:42.417885Z"
    }
   },
   "source": [
    "constant_all_topics = list(map(int,list(constant_topic_model.get_topics().keys())))\n",
    "if -1 in constant_all_topics:\n",
    "  constant_all_topics.remove(-1)"
   ],
   "outputs": [],
   "execution_count": 46
  },
  {
   "metadata": {},
   "cell_type": "code",
   "outputs": [],
   "execution_count": null,
   "source": "fig = constant_topic_model.visualize_barchart(top_n_topics=None, topics=constant_all_topics)",
   "id": "c156c253103a538a"
  },
  {
   "metadata": {},
   "cell_type": "code",
   "outputs": [],
   "execution_count": null,
   "source": "fig = constant_topic_model.visualize_hierarchy()",
   "id": "c7e61ad7cb11f26c"
  },
  {
   "metadata": {
    "ExecuteTime": {
     "end_time": "2025-05-27T20:10:56.716647Z",
     "start_time": "2025-05-27T20:10:56.558635Z"
    }
   },
   "cell_type": "code",
   "source": [
    "import matplotlib.pyplot as plt\n",
    "constant_info = constant_topic_model.get_topic_info()\n",
    "constant_info = constant_info[constant_info.Topic != -1]\n",
    "plt.figure(figsize=(10, 6))\n",
    "plt.bar(constant_info.Topic.astype(str), constant_info.Count)\n",
    "plt.xlabel(\"Topic\")\n",
    "plt.ylabel(\"Number of Documents\")\n",
    "plt.title(\"Number of Documents per Topic\")\n",
    "plt.xticks(rotation=90)\n",
    "plt.show()"
   ],
   "id": "94c7905ecbfb4d9d",
   "outputs": [
    {
     "data": {
      "text/plain": [
       "<Figure size 1000x600 with 1 Axes>"
      ],
      "image/png": "[encoded data removed]"
     },
     "metadata": {},
     "output_type": "display_data"
    }
   ],
   "execution_count": 48
  },
  {
   "cell_type": "code",
   "id": "ec5142b9",
   "metadata": {
    "ExecuteTime": {
     "end_time": "2025-05-27T20:11:00.160955Z",
     "start_time": "2025-05-27T20:11:00.101908Z"
    }
   },
   "source": [
    "fig = constant_topic_model.visualize_heatmap()\n",
    "fig.update_xaxes(tickangle=90)  \n",
    "fig.show()"
   ],
   "outputs": [
    {
     "data": {
      "application/vnd.plotly.v1+json": {
       "data": [
        {
         "coloraxis": "coloraxis",
         "name": "0",
         "x": [
          "0_the_assert_test",
          "1_return_image_of",
          "2_httpserver_selfendheaders...",
          "3_users_file_cursor",
          "4_socketsocketsocketafinet_...",
          "5_return_number_if",
          "6_numbers_of_in",
          "7_class_def_initself",
          "8_list_of_numbers",
          "9_return_def_function",
          "10_flask_app_flaskname"
         ],
         "y": [
          "0_the_assert_test",
          "1_return_image_of",
          "2_httpserver_selfendheaders...",
          "3_users_file_cursor",
          "4_socketsocketsocketafinet_...",
          "5_return_number_if",
          "6_numbers_of_in",
          "7_class_def_initself",
          "8_list_of_numbers",
          "9_return_def_function",
          "10_flask_app_flaskname"
         ],
         "z": {
          "dtype": "f8",
          "bdata": "AAAAAAAA8D91kiMt5Zvcv1NO27jIoOG/i06pyRa+3T+hM9zMZR3Zv3tFQbGFFtw/6HJwyKF35b9CY9cjpa3fvxvOSf+tudE/17Pc5L92uj+7ebNCtgzdP3WSIy3lm9y//v//////7z99749jHQPIv9f5Z6TU2OG/sH7bfy4yuL/fyWvI5pjfv+HipfIgeuQ/Zkh8JPXNwb+ebIOjW+7Xvwcx32Ye/eQ/yvDlvNsu679TTtu4yKDhv33vj2MdA8i/AAAAAAAA8D+btN04Z3XOv3sPGFPWZss/TqgRsRt2zr/W7acy7G2Xv+G1XLUxo+I/sIEohMIj1L9JRyq5iivivwD3bqyoBrs/i06pyRa+3T/X+Wek1Njhv5u03Thndc6/AAAAAAAA8D9Q2t7A/0njPw6Ne4T0nHw//fzUvzC53b+oTr0o2Qnev4JB3WVDW8M/0oLmxvPA4b/SP3gIicPmP6Ez3MxlHdm/sH7bfy4yuL97DxhT1mbLP1Da3sD/SeM/AQAAAAAA8D9OUNnXsUbiv04j8BtXi88/KoPwoIx7zb+Od7LTvHiYP2s7Q6hW5uW/p/cxoSE+xz97RUGxhRbcP9/Ja8jmmN+/TqgRsRt2zr8OjXuE9Jx8P05Q2dexRuK/AAAAAAAA8D/AclOcnzvkvz+tKxJ8uN4/IsSYxrlAlb942RGbzCDSPxMFxYdUwuE/6HJwyKF35b/h4qXyIHrkP9btpzLsbZe//fzUvzC53b9OI/AbV4vPP8ByU5yfO+S/AQAAAAAA8D8PhjUsNj3Cv93K7D3igNI/Odyrsygewj8v+t8Udi/rv0Jj1yOlrd+/Zkh8JPXNwb/htVy1MaPiP6hOvSjZCd6/KoPwoIx7zb8/rSsSfLjePw+GNSw2PcK/////////7z87FqQTvQXbv3n8V16TNJk/zcrmXbV7xz8bzkn/rbnRP55sg6Nb7te/sIEohMIj1L+CQd1lQ1vDP453stO8eJg/IsSYxrlAlb/dyuw94oDSPzsWpBO9Bdu/AAAAAAAA8D+jpR5xkZ/Qv2LAvQVK/rS/17Pc5L92uj8HMd9mHv3kP0lHKrmKK+K/0oLmxvPA4b9rO0OoVublv3jZEZvMINI/Odyrsygewj95/FdekzSZP6OlHnGRn9C/AQAAAAAA8D8BtdqG+Qbgv7t5s0K2DN0/yvDlvNsu678A926sqAa7P9I/eAiJw+Y/p/cxoSE+xz8TBcWHVMLhPy/63xR2L+u/zcrmXbV7xz9iwL0FSv60vwG12ob5BuC/AQAAAAAA8D8=",
          "shape": "11, 11"
         },
         "type": "heatmap",
         "xaxis": "x",
         "yaxis": "y",
         "hovertemplate": "x: %{x}<br>y: %{y}<br>Similarity Score: %{z}<extra></extra>"
        }
       ],
       "layout": {
        "template": {
         "data": {
          "histogram2dcontour": [
           {
            "type": "histogram2dcontour",
            "colorbar": {
             "outlinewidth": 0,
             "ticks": ""
            },
            "colorscale": [
             [
              0.0,
              "#0d0887"
             ],
             [
              0.1111111111111111,
              "#46039f"
             ],
             [
              0.2222222222222222,
              "#7201a8"
             ],
             [
              0.3333333333333333,
              "#9c179e"
             ],
             [
              0.4444444444444444,
              "#bd3786"
             ],
             [
              0.5555555555555556,
              "#d8576b"
             ],
             [
              0.6666666666666666,
              "#ed7953"
             ],
             [
              0.7777777777777778,
              "#fb9f3a"
             ],
             [
              0.8888888888888888,
              "#fdca26"
             ],
             [
              1.0,
              "#f0f921"
             ]
            ]
           }
          ],
          "choropleth": [
           {
            "type": "choropleth",
            "colorbar": {
             "outlinewidth": 0,
             "ticks": ""
            }
           }
          ],
          "histogram2d": [
           {
            "type": "histogram2d",
            "colorbar": {
             "outlinewidth": 0,
             "ticks": ""
            },
            "colorscale": [
             [
              0.0,
              "#0d0887"
             ],
             [
              0.1111111111111111,
              "#46039f"
             ],
             [
              0.2222222222222222,
              "#7201a8"
             ],
             [
              0.3333333333333333,
              "#9c179e"
             ],
             [
              0.4444444444444444,
              "#bd3786"
             ],
             [
              0.5555555555555556,
              "#d8576b"
             ],
             [
              0.6666666666666666,
              "#ed7953"
             ],
             [
              0.7777777777777778,
              "#fb9f3a"
             ],
             [
              0.8888888888888888,
              "#fdca26"
             ],
             [
              1.0,
              "#f0f921"
             ]
            ]
           }
          ],
          "heatmap": [
           {
            "type": "heatmap",
            "colorbar": {
             "outlinewidth": 0,
             "ticks": ""
            },
            "colorscale": [
             [
              0.0,
              "#0d0887"
             ],
             [
              0.1111111111111111,
              "#46039f"
             ],
             [
              0.2222222222222222,
              "#7201a8"
             ],
             [
              0.3333333333333333,
              "#9c179e"
             ],
             [
              0.4444444444444444,
              "#bd3786"
             ],
             [
              0.5555555555555556,
              "#d8576b"
             ],
             [
              0.6666666666666666,
              "#ed7953"
             ],
             [
              0.7777777777777778,
              "#fb9f3a"
             ],
             [
              0.8888888888888888,
              "#fdca26"
             ],
             [
              1.0,
              "#f0f921"
             ]
            ]
           }
          ],
          "contourcarpet": [
           {
            "type": "contourcarpet",
            "colorbar": {
             "outlinewidth": 0,
             "ticks": ""
            }
           }
          ],
          "contour": [
           {
            "type": "contour",
            "colorbar": {
             "outlinewidth": 0,
             "ticks": ""
            },
            "colorscale": [
             [
              0.0,
              "#0d0887"
             ],
             [
              0.1111111111111111,
              "#46039f"
             ],
             [
              0.2222222222222222,
              "#7201a8"
             ],
             [
              0.3333333333333333,
              "#9c179e"
             ],
             [
              0.4444444444444444,
              "#bd3786"
             ],
             [
              0.5555555555555556,
              "#d8576b"
             ],
             [
              0.6666666666666666,
              "#ed7953"
             ],
             [
              0.7777777777777778,
              "#fb9f3a"
             ],
             [
              0.8888888888888888,
              "#fdca26"
             ],
             [
              1.0,
              "#f0f921"
             ]
            ]
           }
          ],
          "surface": [
           {
            "type": "surface",
            "colorbar": {
             "outlinewidth": 0,
             "ticks": ""
            },
            "colorscale": [
             [
              0.0,
              "#0d0887"
             ],
             [
              0.1111111111111111,
              "#46039f"
             ],
             [
              0.2222222222222222,
              "#7201a8"
             ],
             [
              0.3333333333333333,
              "#9c179e"
             ],
             [
              0.4444444444444444,
              "#bd3786"
             ],
             [
              0.5555555555555556,
              "#d8576b"
             ],
             [
              0.6666666666666666,
              "#ed7953"
             ],
             [
              0.7777777777777778,
              "#fb9f3a"
             ],
             [
              0.8888888888888888,
              "#fdca26"
             ],
             [
              1.0,
              "#f0f921"
             ]
            ]
           }
          ],
          "mesh3d": [
           {
            "type": "mesh3d",
            "colorbar": {
             "outlinewidth": 0,
             "ticks": ""
            }
           }
          ],
          "scatter": [
           {
            "fillpattern": {
             "fillmode": "overlay",
             "size": 10,
             "solidity": 0.2
            },
            "type": "scatter"
           }
          ],
          "parcoords": [
           {
            "type": "parcoords",
            "line": {
             "colorbar": {
              "outlinewidth": 0,
              "ticks": ""
             }
            }
           }
          ],
          "scatterpolargl": [
           {
            "type": "scatterpolargl",
            "marker": {
             "colorbar": {
              "outlinewidth": 0,
              "ticks": ""
             }
            }
           }
          ],
          "bar": [
           {
            "error_x": {
             "color": "#2a3f5f"
            },
            "error_y": {
             "color": "#2a3f5f"
            },
            "marker": {
             "line": {
              "color": "#E5ECF6",
              "width": 0.5
             },
             "pattern": {
              "fillmode": "overlay",
              "size": 10,
              "solidity": 0.2
             }
            },
            "type": "bar"
           }
          ],
          "scattergeo": [
           {
            "type": "scattergeo",
            "marker": {
             "colorbar": {
              "outlinewidth": 0,
              "ticks": ""
             }
            }
           }
          ],
          "scatterpolar": [
           {
            "type": "scatterpolar",
            "marker": {
             "colorbar": {
              "outlinewidth": 0,
              "ticks": ""
             }
            }
           }
          ],
          "histogram": [
           {
            "marker": {
             "pattern": {
              "fillmode": "overlay",
              "size": 10,
              "solidity": 0.2
             }
            },
            "type": "histogram"
           }
          ],
          "scattergl": [
           {
            "type": "scattergl",
            "marker": {
             "colorbar": {
              "outlinewidth": 0,
              "ticks": ""
             }
            }
           }
          ],
          "scatter3d": [
           {
            "type": "scatter3d",
            "line": {
             "colorbar": {
              "outlinewidth": 0,
              "ticks": ""
             }
            },
            "marker": {
             "colorbar": {
              "outlinewidth": 0,
              "ticks": ""
             }
            }
           }
          ],
          "scattermap": [
           {
            "type": "scattermap",
            "marker": {
             "colorbar": {
              "outlinewidth": 0,
              "ticks": ""
             }
            }
           }
          ],
          "scattermapbox": [
           {
            "type": "scattermapbox",
            "marker": {
             "colorbar": {
              "outlinewidth": 0,
              "ticks": ""
             }
            }
           }
          ],
          "scatterternary": [
           {
            "type": "scatterternary",
            "marker": {
             "colorbar": {
              "outlinewidth": 0,
              "ticks": ""
             }
            }
           }
          ],
          "scattercarpet": [
           {
            "type": "scattercarpet",
            "marker": {
             "colorbar": {
              "outlinewidth": 0,
              "ticks": ""
             }
            }
           }
          ],
          "carpet": [
           {
            "aaxis": {
             "endlinecolor": "#2a3f5f",
             "gridcolor": "white",
             "linecolor": "white",
             "minorgridcolor": "white",
             "startlinecolor": "#2a3f5f"
            },
            "baxis": {
             "endlinecolor": "#2a3f5f",
             "gridcolor": "white",
             "linecolor": "white",
             "minorgridcolor": "white",
             "startlinecolor": "#2a3f5f"
            },
            "type": "carpet"
           }
          ],
          "table": [
           {
            "cells": {
             "fill": {
              "color": "#EBF0F8"
             },
             "line": {
              "color": "white"
             }
            },
            "header": {
             "fill": {
              "color": "#C8D4E3"
             },
             "line": {
              "color": "white"
             }
            },
            "type": "table"
           }
          ],
          "barpolar": [
           {
            "marker": {
             "line": {
              "color": "#E5ECF6",
              "width": 0.5
             },
             "pattern": {
              "fillmode": "overlay",
              "size": 10,
              "solidity": 0.2
             }
            },
            "type": "barpolar"
           }
          ],
          "pie": [
           {
            "automargin": true,
            "type": "pie"
           }
          ]
         },
         "layout": {
          "autotypenumbers": "strict",
          "colorway": [
           "#636efa",
           "#EF553B",
           "#00cc96",
           "#ab63fa",
           "#FFA15A",
           "#19d3f3",
           "#FF6692",
           "#B6E880",
           "#FF97FF",
           "#FECB52"
          ],
          "font": {
           "color": "#2a3f5f"
          },
          "hovermode": "closest",
          "hoverlabel": {
           "align": "left"
          },
          "paper_bgcolor": "white",
          "plot_bgcolor": "#E5ECF6",
          "polar": {
           "bgcolor": "#E5ECF6",
           "angularaxis": {
            "gridcolor": "white",
            "linecolor": "white",
            "ticks": ""
           },
           "radialaxis": {
            "gridcolor": "white",
            "linecolor": "white",
            "ticks": ""
           }
          },
          "ternary": {
           "bgcolor": "#E5ECF6",
           "aaxis": {
            "gridcolor": "white",
            "linecolor": "white",
            "ticks": ""
           },
           "baxis": {
            "gridcolor": "white",
            "linecolor": "white",
            "ticks": ""
           },
           "caxis": {
            "gridcolor": "white",
            "linecolor": "white",
            "ticks": ""
           }
          },
          "coloraxis": {
           "colorbar": {
            "outlinewidth": 0,
            "ticks": ""
           }
          },
          "colorscale": {
           "sequential": [
            [
             0.0,
             "#0d0887"
            ],
            [
             0.1111111111111111,
             "#46039f"
            ],
            [
             0.2222222222222222,
             "#7201a8"
            ],
            [
             0.3333333333333333,
             "#9c179e"
            ],
            [
             0.4444444444444444,
             "#bd3786"
            ],
            [
             0.5555555555555556,
             "#d8576b"
            ],
            [
             0.6666666666666666,
             "#ed7953"
            ],
            [
             0.7777777777777778,
             "#fb9f3a"
            ],
            [
             0.8888888888888888,
             "#fdca26"
            ],
            [
             1.0,
             "#f0f921"
            ]
           ],
           "sequentialminus": [
            [
             0.0,
             "#0d0887"
            ],
            [
             0.1111111111111111,
             "#46039f"
            ],
            [
             0.2222222222222222,
             "#7201a8"
            ],
            [
             0.3333333333333333,
             "#9c179e"
            ],
            [
             0.4444444444444444,
             "#bd3786"
            ],
            [
             0.5555555555555556,
             "#d8576b"
            ],
            [
             0.6666666666666666,
             "#ed7953"
            ],
            [
             0.7777777777777778,
             "#fb9f3a"
            ],
            [
             0.8888888888888888,
             "#fdca26"
            ],
            [
             1.0,
             "#f0f921"
            ]
           ],
           "diverging": [
            [
             0,
             "#8e0152"
            ],
            [
             0.1,
             "#c51b7d"
            ],
            [
             0.2,
             "#de77ae"
            ],
            [
             0.3,
             "#f1b6da"
            ],
            [
             0.4,
             "#fde0ef"
            ],
            [
             0.5,
             "#f7f7f7"
            ],
            [
             0.6,
             "#e6f5d0"
            ],
            [
             0.7,
             "#b8e186"
            ],
            [
             0.8,
             "#7fbc41"
            ],
            [
             0.9,
             "#4d9221"
            ],
            [
             1,
             "#276419"
            ]
           ]
          },
          "xaxis": {
           "gridcolor": "white",
           "linecolor": "white",
           "ticks": "",
           "title": {
            "standoff": 15
           },
           "zerolinecolor": "white",
           "automargin": true,
           "zerolinewidth": 2
          },
          "yaxis": {
           "gridcolor": "white",
           "linecolor": "white",
           "ticks": "",
           "title": {
            "standoff": 15
           },
           "zerolinecolor": "white",
           "automargin": true,
           "zerolinewidth": 2
          },
          "scene": {
           "xaxis": {
            "backgroundcolor": "#E5ECF6",
            "gridcolor": "white",
            "linecolor": "white",
            "showbackground": true,
            "ticks": "",
            "zerolinecolor": "white",
            "gridwidth": 2
           },
           "yaxis": {
            "backgroundcolor": "#E5ECF6",
            "gridcolor": "white",
            "linecolor": "white",
            "showbackground": true,
            "ticks": "",
            "zerolinecolor": "white",
            "gridwidth": 2
           },
           "zaxis": {
            "backgroundcolor": "#E5ECF6",
            "gridcolor": "white",
            "linecolor": "white",
            "showbackground": true,
            "ticks": "",
            "zerolinecolor": "white",
            "gridwidth": 2
           }
          },
          "shapedefaults": {
           "line": {
            "color": "#2a3f5f"
           }
          },
          "annotationdefaults": {
           "arrowcolor": "#2a3f5f",
           "arrowhead": 0,
           "arrowwidth": 1
          },
          "geo": {
           "bgcolor": "white",
           "landcolor": "#E5ECF6",
           "subunitcolor": "white",
           "showland": true,
           "showlakes": true,
           "lakecolor": "white"
          },
          "title": {
           "x": 0.05
          },
          "mapbox": {
           "style": "light"
          }
         }
        },
        "xaxis": {
         "anchor": "y",
         "domain": [
          0.0,
          1.0
         ],
         "scaleanchor": "y",
         "constrain": "domain",
         "tickangle": 90
        },
        "yaxis": {
         "anchor": "x",
         "domain": [
          0.0,
          1.0
         ],
         "autorange": "reversed",
         "constrain": "domain"
        },
        "coloraxis": {
         "colorbar": {
          "title": {
           "text": "Similarity Score"
          }
         },
         "colorscale": [
          [
           0.0,
           "rgb(247,252,240)"
          ],
          [
           0.125,
           "rgb(224,243,219)"
          ],
          [
           0.25,
           "rgb(204,235,197)"
          ],
          [
           0.375,
           "rgb(168,221,181)"
          ],
          [
           0.5,
           "rgb(123,204,196)"
          ],
          [
           0.625,
           "rgb(78,179,211)"
          ],
          [
           0.75,
           "rgb(43,140,190)"
          ],
          [
           0.875,
           "rgb(8,104,172)"
          ],
          [
           1.0,
           "rgb(8,64,129)"
          ]
         ]
        },
        "margin": {
         "t": 60
        },
        "title": {
         "font": {
          "size": 22,
          "color": "Black"
         },
         "text": "<b>Similarity Matrix</b>",
         "y": 0.95,
         "x": 0.55,
         "xanchor": "center",
         "yanchor": "top"
        },
        "hoverlabel": {
         "font": {
          "size": 16,
          "family": "Rockwell"
         },
         "bgcolor": "white"
        },
        "width": 800,
        "height": 800,
        "showlegend": true,
        "legend": {
         "title": {
          "text": "Trend"
         }
        }
       },
       "config": {
        "plotlyServerURL": "https://plot.ly"
       }
      }
     },
     "metadata": {},
     "output_type": "display_data"
    }
   ],
   "execution_count": 49
  }
 ],
 "metadata": {
  "kernelspec": {
   "display_name": "cloudspace",
   "language": "python",
   "name": "python3"
  },
  "language_info": {
   "codemirror_mode": {
    "name": "ipython",
    "version": 3
   },
   "file_extension": ".py",
   "mimetype": "text/x-python",
   "name": "python",
   "nbconvert_exporter": "python",
   "pygments_lexer": "ipython3",
   "version": "3.10.10"
  }
 },
 "nbformat": 4,
 "nbformat_minor": 5
}
