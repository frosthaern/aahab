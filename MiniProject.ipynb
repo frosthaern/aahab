{
 "cells": [
  {
   "cell_type": "code",
   "execution_count": null,
   "id": "aab367ba-2a3e-4813-866c-35b5ca47a4f0",
   "metadata": {},
   "outputs": [],
   "source": [
    "!pip install torch"
   ]
  },
  {
   "cell_type": "code",
   "execution_count": null,
   "id": "2689325d-d245-4b07-a069-4de9da58997a",
   "metadata": {},
   "outputs": [],
   "source": [
    "import torch\n",
    "print(torch.cuda.is_available())\n",
    "print(torch.cuda.get_device_name())"
   ]
  },
  {
   "cell_type": "code",
   "execution_count": null,
   "id": "fa8bdf4a-cdb5-4479-82f2-532d05cdda1c",
   "metadata": {},
   "outputs": [],
   "source": [
    "!pip install bertopic[all] sentence-transformers umap-learn hdbscan"
   ]
  },
  {
   "cell_type": "code",
   "execution_count": 6,
   "id": "ba3b7794-f536-4208-97c7-2c77fcf380b0",
   "metadata": {},
   "outputs": [],
   "source": [
    "from bertopic import BERTopic\n",
    "import json"
   ]
  },
  {
   "cell_type": "code",
   "execution_count": 7,
   "id": "b1230233-361b-4414-a425-1f697288c827",
   "metadata": {},
   "outputs": [
    {
     "name": "stdout",
     "output_type": "stream",
     "text": [
      "237199\n",
      "['code:def _check(self):\\n        \"\"\"Check if the access token is expired or not.\"\"\"\\n        import time\\n\\n        if self.expires_in is None or self.authenticated is None:\\n            return False\\n\\n        current = time.time()\\n        expire_time = self.authenticated + self.expires_in\\n\\n        return expire_time > current query:Function to determine if access token is valid in Python', 'code:def parse_devices(self, json):\\n        \"\"\"Parse result from API.\"\"\"\\n        result = []\\n\\n        for json_device in json:\\n            license_plate = json_device[\\'EquipmentHeader\\'][\\'SerialNumber\\']\\n\\n            device = Device(self, license_plate)\\n            device.update_from_json(json_device)\\n            result.append(device)\\n\\n        return result query:Best practices for parsing API results in Python', 'code:def state_attributes(self):\\n        \"\"\"Return all attributes of the vehicle.\"\"\"\\n\\n        address_attributes = None\\n        if (self.current_address is not None):\\n            address_attributes = self.current_address.state_attributes()\\n\\n        return {\\n            \\'id\\': self.identifier,\\n            \\'make\\': self.make,\\n            \\'model\\': self.model,\\n            \\'license_plate\\': self.license_plate,\\n            \\'active\\': self.active,\\n            \\'odo\\': self.odo,\\n            \\'latitude\\': self.latitude,\\n            \\'longitude\\': self.longitude,\\n            \\'altitude\\': self.altitude,\\n            \\'speed\\': self.speed,\\n            \\'last_seen\\': self.last_seen,\\n            \\'friendly_name\\': self.license_plate,\\n            \\'equipment_id\\': self.equipment_id,\\n            \\'fuel_level\\': self.fuel_level,\\n            \\'malfunction_light\\': self.malfunction_light,\\n            \\'coolant_temperature\\': self.coolant_temperature,\\n            \\'power_voltage\\': self.power_voltage,\\n            \\'current_max_speed\\': self.current_maximum_speed,\\n            \\'current_address\\': address_attributes\\n        } query:Python function to get identifier, make, model, and other vehicle details', 'code:def get_trips(self, authentication_info, start, end):\\n        \"\"\"Get trips for this device between start and end.\"\"\"\\n        import requests\\n\\n        if (authentication_info is None or\\n            not authentication_info.is_valid()):\\n            return []\\n\\n        data_url = \"https://api.ritassist.nl/api/trips/GetTrips\"\\n        query = f\"?equipmentId={self.identifier}&from={start}&to={end}&extendedInfo=True\"\\n        header = authentication_info.create_header()\\n        response = requests.get(data_url + query, headers=header)\\n        trips = response.json()\\n\\n        result = []\\n        for trip_json in trips:\\n            trip = Trip(trip_json)\\n            result.append(trip)\\n        return result query:Code snippet to fetch trips using authentication in Python', 'code:def get_extra_vehicle_info(self, authentication_info):\\n        \"\"\"Get extra data from the API.\"\"\"\\n        import requests\\n\\n        base_url = \"https://secure.ritassist.nl/GenericServiceJSONP.ashx\"\\n        query = \"?f=CheckExtraVehicleInfo\" \\\\\\n                \"&token={token}\" \\\\\\n                \"&equipmentId={identifier}\" \\\\\\n                \"&lastHash=null&padding=false\"\\n\\n        parameters = {\\n            \\'token\\': authentication_info.access_token,\\n            \\'identifier\\': str(self.identifier)\\n        }\\n\\n        response = requests.get(base_url + query.format(**parameters))\\n        json = response.json()\\n\\n        self.malfunction_light = json[\\'MalfunctionIndicatorLight\\']\\n        self.fuel_level = json[\\'FuelLevel\\']\\n        self.coolant_temperature = json[\\'EngineCoolantTemperature\\']\\n        self.power_voltage = json[\\'PowerVoltage\\'] query:Code snippet for accessing vehicle information with API Python requests']\n"
     ]
    }
   ],
   "source": [
    "with open(\"/home/shashank/Code/MiniProject/Query4Code.jsonl\", \"r\") as f:\n",
    "  for line in f:\n",
    "    data = [json.loads(line) for line in f]\n",
    "print(len(data))\n",
    "# not sure what to do here\n",
    "# should we use both code and query or only code\n",
    "docs = [f\"code:{item[\"code\"]} query:{item[\"query\"]}\"for item in data]\n",
    "print(docs[:5])"
   ]
  },
  {
   "cell_type": "code",
   "execution_count": null,
   "id": "e94c5673-66da-4930-820c-47d2956e1ef4",
   "metadata": {},
   "outputs": [],
   "source": [
    "model = BERTopic(embedding_model=\"all-MiniLM-L6-v2\")\n",
    "topics, probs = model.fit_transform(docs)\n",
    "print(topics)\n",
    "print(model.get_topic_info())\n",
    "uniq_topics = set(topics)\n",
    "for topic in uniq_topics:\n",
    "  print(f\"topic:{topic}, name:{model.get_topic(topic)}\")"
   ]
  },
  {
   "cell_type": "code",
   "execution_count": null,
   "id": "981fa6ce-df81-446d-8b8c-5ed57c1dcb2b",
   "metadata": {},
   "outputs": [],
   "source": []
  }
 ],
 "metadata": {
  "kernelspec": {
   "display_name": "Python 3 (ipykernel)",
   "language": "python",
   "name": "python3"
  },
  "language_info": {
   "codemirror_mode": {
    "name": "ipython",
    "version": 3
   },
   "file_extension": ".py",
   "mimetype": "text/x-python",
   "name": "python",
   "nbconvert_exporter": "python",
   "pygments_lexer": "ipython3",
   "version": "3.13.3"
  }
 },
 "nbformat": 4,
 "nbformat_minor": 5
}
