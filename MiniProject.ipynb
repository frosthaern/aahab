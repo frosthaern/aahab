{
 "cells": [
  {
   "cell_type": "code",
   "execution_count": 2,
   "id": "ba3b7794-f536-4208-97c7-2c77fcf380b0",
   "metadata": {},
   "outputs": [],
   "source": [
    "from bertopic import BERTopic\n",
    "import json"
   ]
  },
  {
   "cell_type": "code",
   "execution_count": 3,
   "id": "b1230233-361b-4414-a425-1f697288c827",
   "metadata": {},
   "outputs": [
    {
     "name": "stdout",
     "output_type": "stream",
     "text": [
      "237200\n"
     ]
    }
   ],
   "source": [
    "code_list = []\n",
    "with open(\"/home/shashank/Code/Query4Code.jsonl\", \"r\") as f:\n",
    "  for line in f:\n",
    "    data = json.loads(line)\n",
    "    code_list.append(data[\"code\"])\n",
    "print(len(code_list))"
   ]
  },
  {
   "cell_type": "code",
   "execution_count": null,
   "id": "e94c5673-66da-4930-820c-47d2956e1ef4",
   "metadata": {},
   "outputs": [],
   "source": [
    "model = BERTopic()\n",
    "topics, probs = model.fit_transform(code_list)\n",
    "print(topics)\n",
    "print(model.get_topic_info())\n",
    "uniq_topics = set(topics)\n",
    "for topic in uniq_topics:\n",
    "  print(f\"topic:{topic}, name:{model.get_topic(topic)}\")"
   ]
  }
 ],
 "metadata": {
  "kernelspec": {
   "display_name": "Python 3 (ipykernel)",
   "language": "python",
   "name": "python3"
  },
  "language_info": {
   "codemirror_mode": {
    "name": "ipython",
    "version": 3
   },
   "file_extension": ".py",
   "mimetype": "text/x-python",
   "name": "python",
   "nbconvert_exporter": "python",
   "pygments_lexer": "ipython3",
   "version": "3.13.3"
  }
 },
 "nbformat": 4,
 "nbformat_minor": 5
}
