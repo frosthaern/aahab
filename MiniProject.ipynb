{
 "cells": [
  {
   "cell_type": "code",
   "execution_count": null,
   "id": "aab367ba-2a3e-4813-866c-35b5ca47a4f0",
   "metadata": {},
   "outputs": [],
   "source": [
    "!pip install torch"
   ]
  },
  {
   "cell_type": "code",
   "execution_count": null,
   "id": "2689325d-d245-4b07-a069-4de9da58997a",
   "metadata": {},
   "outputs": [],
   "source": [
    "import torch\n",
    "print(torch.cuda.is_available())\n",
    "print(torch.cuda.get_device_name())"
   ]
  },
  {
   "cell_type": "code",
   "execution_count": null,
   "id": "fa8bdf4a-cdb5-4479-82f2-532d05cdda1c",
   "metadata": {},
   "outputs": [],
   "source": [
    "!pip install bertopic[all] sentence-transformers umap-learn hdbscan"
   ]
  },
  {
   "cell_type": "code",
   "execution_count": 2,
   "id": "ba3b7794-f536-4208-97c7-2c77fcf380b0",
   "metadata": {},
   "outputs": [],
   "source": [
    "from bertopic import BERTopic\n",
    "from umap import UMAP\n",
    "from hdbscan import HDBSCAN\n",
    "import json"
   ]
  },
  {
   "cell_type": "code",
   "execution_count": 3,
   "id": "b1230233-361b-4414-a425-1f697288c827",
   "metadata": {},
   "outputs": [
    {
     "name": "stdout",
     "output_type": "stream",
     "text": [
      "237199\n"
     ]
    }
   ],
   "source": [
    "with open(\"/home/shashank/Code/MiniProject/Query4Code.jsonl\", \"r\") as f:\n",
    "  for line in f:\n",
    "    data = [json.loads(line) for line in f]\n",
    "print(len(data))\n",
    "# not sure what to do here\n",
    "# should we use both code and query or only code\n",
    "docs = [f\"code:{item['code']} query:{item['query']}\"for item in data]"
   ]
  },
  {
   "cell_type": "code",
   "execution_count": null,
   "id": "e94c5673-66da-4930-820c-47d2956e1ef4",
   "metadata": {},
   "outputs": [],
   "source": [
    "model = BERTopic(    \n",
    "    embedding_model=\"all-MiniLM-L6-v2\",   # Efficient embedding model for quick computation\n",
    "    umap_model=UMAP(\n",
    "        n_neighbors=10,                  # Lower neighbors for tighter clusters\n",
    "        n_components=5,                  # Dimensionality reduction\n",
    "        min_dist=0.1,                    # Slight separation between clusters\n",
    "        metric='cosine'                  # Cosine similarity for text data\n",
    "    ),\n",
    "    hdbscan_model=HDBSCAN(\n",
    "        min_cluster_size=60,             # Increase to reduce topic count\n",
    "        min_samples=15,                   # Fewer samples to prevent fragmentation\n",
    "        metric='euclidean',              # Works well with UMAP output\n",
    "        cluster_selection_method='eom'   # Keeps distinct clusters\n",
    "    ),                       # Target topic count, reduces smaller ones\n",
    "    top_n_words=10                       # Top words per topic\n",
    ")\n",
    "topics, probs = model.fit_transform(docs)"
   ]
  },
  {
   "cell_type": "code",
   "execution_count": null,
   "id": "981fa6ce-df81-446d-8b8c-5ed57c1dcb2b",
   "metadata": {},
   "outputs": [],
   "source": [
    "print(topics)\n",
    "print(model.get_topic_info())\n",
    "uniq_topics = set(topics)\n",
    "for topic in uniq_topics:\n",
    "  print(f\"topic:{topic}, name:{model.get_topic(topic)}\")"
   ]
  },
  {
   "cell_type": "code",
   "execution_count": null,
   "id": "a629ddea-683c-4c37-ad9c-bc2f2680f9a5",
   "metadata": {},
   "outputs": [],
   "source": [
    "import pandas as pd\n",
    "\n",
    "topic_info_df = model.get_topic_info()\n",
    "topic_info_df.to_csv(\"bertopic_topic_info.csv\", index=False)"
   ]
  },
  {
   "cell_type": "code",
   "execution_count": null,
   "id": "7197abb2-3ca0-4e2f-922f-f529a98ca2fc",
   "metadata": {},
   "outputs": [],
   "source": [
    "df = pd.DataFrame({\n",
    "    \"document\": docs,\n",
    "    \"topic\": topics,\n",
    "    \"probability\": probs\n",
    "})\n",
    "df.to_csv(\"document_topic_mapping.csv\", index=False)"
   ]
  },
  {
   "cell_type": "code",
   "execution_count": null,
   "id": "a45a3895-c6eb-4755-92ba-f6dd5b95a94f",
   "metadata": {},
   "outputs": [],
   "source": [
    "print(max(topics))"
   ]
  }
 ],
 "metadata": {
  "kernelspec": {
   "display_name": "Python 3 (ipykernel)",
   "language": "python",
   "name": "python3"
  },
  "language_info": {
   "codemirror_mode": {
    "name": "ipython",
    "version": 3
   },
   "file_extension": ".py",
   "mimetype": "text/x-python",
   "name": "python",
   "nbconvert_exporter": "python",
   "pygments_lexer": "ipython3",
   "version": "3.13.3"
  }
 },
 "nbformat": 4,
 "nbformat_minor": 5
}
